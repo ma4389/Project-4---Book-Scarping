{
 "cells": [
  {
   "cell_type": "code",
   "execution_count": 3,
   "metadata": {},
   "outputs": [],
   "source": [
    "# import libraries\n",
    "import csv\n",
    "import requests\n",
    "import pandas as pd\n",
    "from bs4 import BeautifulSoup"
   ]
  },
  {
   "cell_type": "code",
   "execution_count": 17,
   "metadata": {},
   "outputs": [],
   "source": [
    "# send request and save the response \n",
    "response = requests.get('http://books.toscrape.com/catalogue/category/books/mystery_3/index.html')\n",
    "# make the soup\n",
    "soup = BeautifulSoup(response.content, 'html.parser')"
   ]
  },
  {
   "cell_type": "code",
   "execution_count": 18,
   "metadata": {},
   "outputs": [
    {
     "data": {
      "text/plain": [
       "20"
      ]
     },
     "execution_count": 18,
     "metadata": {},
     "output_type": "execute_result"
    }
   ],
   "source": [
    "# find all articles\n",
    "all_articles = soup.find_all('article', attrs={'class': 'product_pod'})\n",
    "len(all_articles)"
   ]
  },
  {
   "cell_type": "code",
   "execution_count": 19,
   "metadata": {},
   "outputs": [
    {
     "name": "stdout",
     "output_type": "stream",
     "text": [
      "Sharp Objects\n",
      "In a Dark, Dark Wood\n",
      "The Past Never Ends\n",
      "A Murder in Time\n",
      "The Murder of Roger Ackroyd (Hercule Poirot #4)\n",
      "The Last Mile (Amos Decker #2)\n",
      "That Darkness (Gardiner and Renner #1)\n",
      "Tastes Like Fear (DI Marnie Rome #3)\n",
      "A Time of Torment (Charlie Parker #14)\n",
      "A Study in Scarlet (Sherlock Holmes #1)\n",
      "Poisonous (Max Revere Novels #3)\n",
      "Murder at the 42nd Street Library (Raymond Ambler #1)\n",
      "Most Wanted\n",
      "Hide Away (Eve Duncan #20)\n",
      "Boar Island (Anna Pigeon #19)\n",
      "The Widow\n",
      "Playing with Fire\n",
      "What Happened on Beale Street (Secrets of the South Mysteries #2)\n",
      "The Bachelor Girl's Guide to Murder (Herringford and Watts Mysteries #1)\n",
      "Delivering the Truth (Quaker Midwife Mystery #1)\n"
     ]
    }
   ],
   "source": [
    "# get the title\n",
    "for article in all_articles:\n",
    "    title = article.find('img', attrs= {'class': 'thumbnail'}).attrs['alt']\n",
    "    print(title)"
   ]
  },
  {
   "cell_type": "code",
   "execution_count": 7,
   "metadata": {},
   "outputs": [
    {
     "name": "stdout",
     "output_type": "stream",
     "text": [
      "47.82\n",
      "19.63\n",
      "56.5\n",
      "16.64\n",
      "44.1\n",
      "54.21\n",
      "13.92\n",
      "10.69\n",
      "48.35\n",
      "16.73\n",
      "26.8\n",
      "54.36\n",
      "35.28\n",
      "11.84\n",
      "59.48\n",
      "27.26\n",
      "13.71\n",
      "25.37\n",
      "52.3\n",
      "20.89\n"
     ]
    }
   ],
   "source": [
    "# get the price\n",
    "for article in all_articles:\n",
    "    price = float(article.find('p', attrs= {'class': 'price_color'}).get_text()[1:])\n",
    "    print(price)"
   ]
  },
  {
   "cell_type": "code",
   "execution_count": 8,
   "metadata": {},
   "outputs": [
    {
     "name": "stdout",
     "output_type": "stream",
     "text": [
      "Four\n",
      "One\n",
      "Four\n",
      "One\n",
      "Four\n",
      "Two\n",
      "One\n",
      "One\n",
      "Five\n",
      "Two\n",
      "Three\n",
      "Four\n",
      "Three\n",
      "One\n",
      "Three\n",
      "Two\n",
      "Three\n",
      "Five\n",
      "Five\n",
      "Four\n"
     ]
    }
   ],
   "source": [
    "# get the rate\n",
    "for article in all_articles:\n",
    "    rate = article.find('p', attrs= {'class': 'star-rating'}).attrs['class'][1]\n",
    "    print(rate)"
   ]
  },
  {
   "cell_type": "code",
   "execution_count": 9,
   "metadata": {},
   "outputs": [
    {
     "data": {
      "text/plain": [
       "2"
      ]
     },
     "execution_count": 9,
     "metadata": {},
     "output_type": "execute_result"
    }
   ],
   "source": [
    "# get the number of pages\n",
    "no_pages = int(soup.find('li', {'class': 'current'}).get_text().split('of')[1][1])\n",
    "no_pages"
   ]
  },
  {
   "cell_type": "code",
   "execution_count": 10,
   "metadata": {},
   "outputs": [
    {
     "data": {
      "text/plain": [
       "int"
      ]
     },
     "execution_count": 10,
     "metadata": {},
     "output_type": "execute_result"
    }
   ],
   "source": [
    "# type of pages\n",
    "type(no_pages)"
   ]
  },
  {
   "cell_type": "code",
   "execution_count": 22,
   "metadata": {},
   "outputs": [],
   "source": [
    "# scrape all pages\n",
    "with open('books.csv', 'w', newline= '') as f:\n",
    "    fieldnames = ['book', 'price', 'rate']\n",
    "    writer = csv.DictWriter(f, fieldnames= fieldnames)\n",
    "    writer.writeheader()\n",
    "    for page in range(no_pages):\n",
    "        # send request and save the response \n",
    "        link = f'http://books.toscrape.com/catalogue/category/books/mystery_3/page-{str(page+1)}.html'\n",
    "        response = requests.get(link)\n",
    "        # make the soup\n",
    "        soup = BeautifulSoup(response.content, 'html.parser')\n",
    "        all_articles = soup.find_all('article', attrs={'class': 'product_pod'})\n",
    "        rate_dict = {'One': 1, 'Two': 2, 'Three': 3, 'Four': 4, 'Five': 5}\n",
    "        for article in all_articles:\n",
    "            title = article.find('img', attrs= {'class': 'thumbnail'}).attrs['alt']\n",
    "            price = float(article.find('p', attrs= {'class': 'price_color'}).get_text()[1:])\n",
    "            rate = article.find('p', attrs= {'class': 'star-rating'}).attrs['class'][1]\n",
    "            writer.writerow({'book': title, 'price': price, 'rate': rate_dict[rate]})"
   ]
  },
  {
   "cell_type": "code",
   "execution_count": 23,
   "metadata": {},
   "outputs": [
    {
     "name": "stdout",
     "output_type": "stream",
     "text": [
      "(32, 3)\n"
     ]
    },
    {
     "data": {
      "text/html": [
       "<div>\n",
       "<style scoped>\n",
       "    .dataframe tbody tr th:only-of-type {\n",
       "        vertical-align: middle;\n",
       "    }\n",
       "\n",
       "    .dataframe tbody tr th {\n",
       "        vertical-align: top;\n",
       "    }\n",
       "\n",
       "    .dataframe thead th {\n",
       "        text-align: right;\n",
       "    }\n",
       "</style>\n",
       "<table border=\"1\" class=\"dataframe\">\n",
       "  <thead>\n",
       "    <tr style=\"text-align: right;\">\n",
       "      <th></th>\n",
       "      <th>book</th>\n",
       "      <th>price</th>\n",
       "      <th>rate</th>\n",
       "    </tr>\n",
       "  </thead>\n",
       "  <tbody>\n",
       "    <tr>\n",
       "      <th>0</th>\n",
       "      <td>Sharp Objects</td>\n",
       "      <td>47.82</td>\n",
       "      <td>4</td>\n",
       "    </tr>\n",
       "    <tr>\n",
       "      <th>1</th>\n",
       "      <td>In a Dark, Dark Wood</td>\n",
       "      <td>19.63</td>\n",
       "      <td>1</td>\n",
       "    </tr>\n",
       "    <tr>\n",
       "      <th>2</th>\n",
       "      <td>The Past Never Ends</td>\n",
       "      <td>56.50</td>\n",
       "      <td>4</td>\n",
       "    </tr>\n",
       "    <tr>\n",
       "      <th>3</th>\n",
       "      <td>A Murder in Time</td>\n",
       "      <td>16.64</td>\n",
       "      <td>1</td>\n",
       "    </tr>\n",
       "    <tr>\n",
       "      <th>4</th>\n",
       "      <td>The Murder of Roger Ackroyd (Hercule Poirot #4)</td>\n",
       "      <td>44.10</td>\n",
       "      <td>4</td>\n",
       "    </tr>\n",
       "    <tr>\n",
       "      <th>5</th>\n",
       "      <td>The Last Mile (Amos Decker #2)</td>\n",
       "      <td>54.21</td>\n",
       "      <td>2</td>\n",
       "    </tr>\n",
       "    <tr>\n",
       "      <th>6</th>\n",
       "      <td>That Darkness (Gardiner and Renner #1)</td>\n",
       "      <td>13.92</td>\n",
       "      <td>1</td>\n",
       "    </tr>\n",
       "    <tr>\n",
       "      <th>7</th>\n",
       "      <td>Tastes Like Fear (DI Marnie Rome #3)</td>\n",
       "      <td>10.69</td>\n",
       "      <td>1</td>\n",
       "    </tr>\n",
       "    <tr>\n",
       "      <th>8</th>\n",
       "      <td>A Time of Torment (Charlie Parker #14)</td>\n",
       "      <td>48.35</td>\n",
       "      <td>5</td>\n",
       "    </tr>\n",
       "    <tr>\n",
       "      <th>9</th>\n",
       "      <td>A Study in Scarlet (Sherlock Holmes #1)</td>\n",
       "      <td>16.73</td>\n",
       "      <td>2</td>\n",
       "    </tr>\n",
       "    <tr>\n",
       "      <th>10</th>\n",
       "      <td>Poisonous (Max Revere Novels #3)</td>\n",
       "      <td>26.80</td>\n",
       "      <td>3</td>\n",
       "    </tr>\n",
       "    <tr>\n",
       "      <th>11</th>\n",
       "      <td>Murder at the 42nd Street Library (Raymond Amb...</td>\n",
       "      <td>54.36</td>\n",
       "      <td>4</td>\n",
       "    </tr>\n",
       "    <tr>\n",
       "      <th>12</th>\n",
       "      <td>Most Wanted</td>\n",
       "      <td>35.28</td>\n",
       "      <td>3</td>\n",
       "    </tr>\n",
       "    <tr>\n",
       "      <th>13</th>\n",
       "      <td>Hide Away (Eve Duncan #20)</td>\n",
       "      <td>11.84</td>\n",
       "      <td>1</td>\n",
       "    </tr>\n",
       "    <tr>\n",
       "      <th>14</th>\n",
       "      <td>Boar Island (Anna Pigeon #19)</td>\n",
       "      <td>59.48</td>\n",
       "      <td>3</td>\n",
       "    </tr>\n",
       "    <tr>\n",
       "      <th>15</th>\n",
       "      <td>The Widow</td>\n",
       "      <td>27.26</td>\n",
       "      <td>2</td>\n",
       "    </tr>\n",
       "    <tr>\n",
       "      <th>16</th>\n",
       "      <td>Playing with Fire</td>\n",
       "      <td>13.71</td>\n",
       "      <td>3</td>\n",
       "    </tr>\n",
       "    <tr>\n",
       "      <th>17</th>\n",
       "      <td>What Happened on Beale Street (Secrets of the ...</td>\n",
       "      <td>25.37</td>\n",
       "      <td>5</td>\n",
       "    </tr>\n",
       "    <tr>\n",
       "      <th>18</th>\n",
       "      <td>The Bachelor Girl's Guide to Murder (Herringfo...</td>\n",
       "      <td>52.30</td>\n",
       "      <td>5</td>\n",
       "    </tr>\n",
       "    <tr>\n",
       "      <th>19</th>\n",
       "      <td>Delivering the Truth (Quaker Midwife Mystery #1)</td>\n",
       "      <td>20.89</td>\n",
       "      <td>4</td>\n",
       "    </tr>\n",
       "    <tr>\n",
       "      <th>20</th>\n",
       "      <td>The Mysterious Affair at Styles (Hercule Poiro...</td>\n",
       "      <td>24.80</td>\n",
       "      <td>4</td>\n",
       "    </tr>\n",
       "    <tr>\n",
       "      <th>21</th>\n",
       "      <td>In the Woods (Dublin Murder Squad #1)</td>\n",
       "      <td>38.38</td>\n",
       "      <td>2</td>\n",
       "    </tr>\n",
       "    <tr>\n",
       "      <th>22</th>\n",
       "      <td>The Silkworm (Cormoran Strike #2)</td>\n",
       "      <td>23.05</td>\n",
       "      <td>5</td>\n",
       "    </tr>\n",
       "    <tr>\n",
       "      <th>23</th>\n",
       "      <td>The Exiled</td>\n",
       "      <td>43.45</td>\n",
       "      <td>3</td>\n",
       "    </tr>\n",
       "    <tr>\n",
       "      <th>24</th>\n",
       "      <td>The Cuckoo's Calling (Cormoran Strike #1)</td>\n",
       "      <td>19.21</td>\n",
       "      <td>1</td>\n",
       "    </tr>\n",
       "    <tr>\n",
       "      <th>25</th>\n",
       "      <td>Extreme Prey (Lucas Davenport #26)</td>\n",
       "      <td>25.40</td>\n",
       "      <td>3</td>\n",
       "    </tr>\n",
       "    <tr>\n",
       "      <th>26</th>\n",
       "      <td>Career of Evil (Cormoran Strike #3)</td>\n",
       "      <td>24.72</td>\n",
       "      <td>2</td>\n",
       "    </tr>\n",
       "    <tr>\n",
       "      <th>27</th>\n",
       "      <td>The No. 1 Ladies' Detective Agency (No. 1 Ladi...</td>\n",
       "      <td>57.70</td>\n",
       "      <td>4</td>\n",
       "    </tr>\n",
       "    <tr>\n",
       "      <th>28</th>\n",
       "      <td>The Girl You Lost</td>\n",
       "      <td>12.29</td>\n",
       "      <td>5</td>\n",
       "    </tr>\n",
       "    <tr>\n",
       "      <th>29</th>\n",
       "      <td>The Girl In The Ice (DCI Erika Foster #1)</td>\n",
       "      <td>15.85</td>\n",
       "      <td>3</td>\n",
       "    </tr>\n",
       "    <tr>\n",
       "      <th>30</th>\n",
       "      <td>Blood Defense (Samantha Brinkman #1)</td>\n",
       "      <td>20.30</td>\n",
       "      <td>3</td>\n",
       "    </tr>\n",
       "    <tr>\n",
       "      <th>31</th>\n",
       "      <td>1st to Die (Women's Murder Club #1)</td>\n",
       "      <td>53.98</td>\n",
       "      <td>1</td>\n",
       "    </tr>\n",
       "  </tbody>\n",
       "</table>\n",
       "</div>"
      ],
      "text/plain": [
       "                                                 book  price  rate\n",
       "0                                       Sharp Objects  47.82     4\n",
       "1                                In a Dark, Dark Wood  19.63     1\n",
       "2                                 The Past Never Ends  56.50     4\n",
       "3                                    A Murder in Time  16.64     1\n",
       "4     The Murder of Roger Ackroyd (Hercule Poirot #4)  44.10     4\n",
       "5                      The Last Mile (Amos Decker #2)  54.21     2\n",
       "6              That Darkness (Gardiner and Renner #1)  13.92     1\n",
       "7                Tastes Like Fear (DI Marnie Rome #3)  10.69     1\n",
       "8              A Time of Torment (Charlie Parker #14)  48.35     5\n",
       "9             A Study in Scarlet (Sherlock Holmes #1)  16.73     2\n",
       "10                   Poisonous (Max Revere Novels #3)  26.80     3\n",
       "11  Murder at the 42nd Street Library (Raymond Amb...  54.36     4\n",
       "12                                        Most Wanted  35.28     3\n",
       "13                         Hide Away (Eve Duncan #20)  11.84     1\n",
       "14                      Boar Island (Anna Pigeon #19)  59.48     3\n",
       "15                                          The Widow  27.26     2\n",
       "16                                  Playing with Fire  13.71     3\n",
       "17  What Happened on Beale Street (Secrets of the ...  25.37     5\n",
       "18  The Bachelor Girl's Guide to Murder (Herringfo...  52.30     5\n",
       "19   Delivering the Truth (Quaker Midwife Mystery #1)  20.89     4\n",
       "20  The Mysterious Affair at Styles (Hercule Poiro...  24.80     4\n",
       "21              In the Woods (Dublin Murder Squad #1)  38.38     2\n",
       "22                  The Silkworm (Cormoran Strike #2)  23.05     5\n",
       "23                                         The Exiled  43.45     3\n",
       "24          The Cuckoo's Calling (Cormoran Strike #1)  19.21     1\n",
       "25                 Extreme Prey (Lucas Davenport #26)  25.40     3\n",
       "26                Career of Evil (Cormoran Strike #3)  24.72     2\n",
       "27  The No. 1 Ladies' Detective Agency (No. 1 Ladi...  57.70     4\n",
       "28                                  The Girl You Lost  12.29     5\n",
       "29          The Girl In The Ice (DCI Erika Foster #1)  15.85     3\n",
       "30               Blood Defense (Samantha Brinkman #1)  20.30     3\n",
       "31                1st to Die (Women's Murder Club #1)  53.98     1"
      ]
     },
     "execution_count": 23,
     "metadata": {},
     "output_type": "execute_result"
    }
   ],
   "source": [
    "# read the data with pandas\n",
    "books = pd.read_csv('books.csv')\n",
    "print(books.shape)\n",
    "books"
   ]
  },
  {
   "cell_type": "markdown",
   "metadata": {},
   "source": [
    "## Good Job!"
   ]
  }
 ],
 "metadata": {
  "kernelspec": {
   "display_name": "Python 3",
   "language": "python",
   "name": "python3"
  },
  "language_info": {
   "codemirror_mode": {
    "name": "ipython",
    "version": 3
   },
   "file_extension": ".py",
   "mimetype": "text/x-python",
   "name": "python",
   "nbconvert_exporter": "python",
   "pygments_lexer": "ipython3",
   "version": "3.7.6"
  }
 },
 "nbformat": 4,
 "nbformat_minor": 4
}
